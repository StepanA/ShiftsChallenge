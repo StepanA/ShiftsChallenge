{
 "cells": [
  {
   "cell_type": "markdown",
   "id": "8391c170",
   "metadata": {},
   "source": [
    "# Load data, process, reduce memory and save to pickle "
   ]
  },
  {
   "cell_type": "code",
   "execution_count": 1,
   "id": "0809ac80",
   "metadata": {},
   "outputs": [],
   "source": [
    "import pickle\n",
    "import pandas as pd\n",
    "from process_data import reduce_mem_usage, process_data\n",
    "\n",
    "data_path = '../data/'"
   ]
  },
  {
   "cell_type": "code",
   "execution_count": 2,
   "id": "af998763",
   "metadata": {},
   "outputs": [
    {
     "name": "stdout",
     "output_type": "stream",
     "text": [
      "Train: (3129592, 129)\n",
      "Test: (1137731, 123) \n",
      "\n",
      "Dev in: (50000, 129)\n",
      "Dev out: (50000, 129)\n",
      "Wall time: 1min 16s\n"
     ]
    }
   ],
   "source": [
    "%%time\n",
    "# Load data\n",
    "\n",
    "train = pd.read_csv(data_path + 'raw/train.csv')\n",
    "train = train.sort_values(['fact_temperature', 'climate', 'fact_cwsm_class',\n",
    "                           'fact_latitude', 'fact_longitude', 'fact_time'])\n",
    "\n",
    "dev_in = pd.read_csv(data_path + 'raw/dev_in.csv')\n",
    "dev_out = pd.read_csv(data_path + 'raw/dev_out.csv')\n",
    "test = pd.read_csv(data_path + 'raw/eval.csv')\n",
    "\n",
    "print('Train:', train.shape)\n",
    "print('Test:', test.shape, '\\n')\n",
    "print('Dev in:', dev_in.shape)\n",
    "print('Dev out:', dev_out.shape)"
   ]
  },
  {
   "cell_type": "code",
   "execution_count": 3,
   "id": "cd974c0a",
   "metadata": {},
   "outputs": [],
   "source": [
    "# Concat data\n",
    "\n",
    "train['Set'] = 'train'\n",
    "dev_in['Set'] = 'dev_in'\n",
    "dev_out['Set'] = 'dev_out'\n",
    "test['Set'] = 'test'\n",
    "\n",
    "merged_df = pd.concat([train, dev_in, dev_out, test])\n",
    "del(train, dev_in, dev_out, test)"
   ]
  },
  {
   "cell_type": "code",
   "execution_count": 4,
   "id": "229ec18e",
   "metadata": {},
   "outputs": [
    {
     "name": "stdout",
     "output_type": "stream",
     "text": [
      "Wall time: 25.8 s\n"
     ]
    }
   ],
   "source": [
    "%%time\n",
    "# Process data\n",
    "\n",
    "merged_df = process_data(merged_df)"
   ]
  },
  {
   "cell_type": "code",
   "execution_count": 5,
   "id": "9bd1887d",
   "metadata": {},
   "outputs": [
    {
     "name": "stdout",
     "output_type": "stream",
     "text": [
      "Memory usage of dataframe is 4198.32 MB\n"
     ]
    },
    {
     "name": "stderr",
     "output_type": "stream",
     "text": [
      "C:\\Projects\\Competitions\\Shifts\\GitHub\\code\\process_data.py:37: SettingWithCopyWarning: \n",
      "A value is trying to be set on a copy of a slice from a DataFrame.\n",
      "Try using .loc[row_indexer,col_indexer] = value instead\n",
      "\n",
      "See the caveats in the documentation: https://pandas.pydata.org/pandas-docs/stable/user_guide/indexing.html#returning-a-view-versus-a-copy\n",
      "  df[col] = df[col].astype(np.float32)\n",
      "C:\\Projects\\Competitions\\Shifts\\GitHub\\code\\process_data.py:19: SettingWithCopyWarning: \n",
      "A value is trying to be set on a copy of a slice from a DataFrame.\n",
      "Try using .loc[row_indexer,col_indexer] = value instead\n",
      "\n",
      "See the caveats in the documentation: https://pandas.pydata.org/pandas-docs/stable/user_guide/indexing.html#returning-a-view-versus-a-copy\n",
      "  df[col] = df[col].astype(int)\n",
      "C:\\Projects\\Competitions\\Shifts\\GitHub\\code\\process_data.py:28: SettingWithCopyWarning: \n",
      "A value is trying to be set on a copy of a slice from a DataFrame.\n",
      "Try using .loc[row_indexer,col_indexer] = value instead\n",
      "\n",
      "See the caveats in the documentation: https://pandas.pydata.org/pandas-docs/stable/user_guide/indexing.html#returning-a-view-versus-a-copy\n",
      "  df[col] = df[col].astype(np.int8)\n"
     ]
    },
    {
     "name": "stdout",
     "output_type": "stream",
     "text": [
      "wrf_hail converted to int\n",
      "Memory usage after optimization is: 2103.33 MB\n",
      "Decreased by 49.9%\n"
     ]
    }
   ],
   "source": [
    "# Reduce memory\n",
    "\n",
    "features = [x for x in merged_df.columns[6:] if x != 'Set']\n",
    "merged_df[features] = reduce_mem_usage(merged_df[features])"
   ]
  },
  {
   "cell_type": "code",
   "execution_count": 6,
   "id": "1a61fe4d",
   "metadata": {},
   "outputs": [
    {
     "name": "stdout",
     "output_type": "stream",
     "text": [
      "Train: (3129592, 131)\n",
      "Test: (1137731, 125) \n",
      "\n",
      "Dev in: (50000, 131)\n",
      "Dev out: (50000, 131)\n"
     ]
    }
   ],
   "source": [
    "# Split data\n",
    "\n",
    "train = merged_df[merged_df['Set'] == 'train'].drop(columns='Set')\n",
    "dev_in = merged_df[merged_df['Set'] == 'dev_in'].drop(columns='Set')\n",
    "dev_out = merged_df[merged_df['Set'] == 'dev_out'].drop(columns='Set')\n",
    "\n",
    "test_drop_cols = list(train.columns[:6]) + ['Set']\n",
    "test = merged_df[merged_df['Set'] == 'test'].drop(columns=test_drop_cols)\n",
    "\n",
    "print('Train:', train.shape)\n",
    "print('Test:', test.shape, '\\n')\n",
    "print('Dev in:', dev_in.shape)\n",
    "print('Dev out:', dev_out.shape)"
   ]
  },
  {
   "cell_type": "code",
   "execution_count": 7,
   "id": "3f02ca24",
   "metadata": {},
   "outputs": [],
   "source": [
    "# Save data\n",
    "\n",
    "with open(data_path + 'processed/train.pcl', 'wb') as f:\n",
    "    pickle.dump(train, f)\n",
    "\n",
    "with open(data_path + 'processed/dev_in.pcl', 'wb') as f:\n",
    "    pickle.dump(dev_in, f)\n",
    "        \n",
    "with open(data_path + 'processed/dev_out.pcl', 'wb') as f:\n",
    "    pickle.dump(dev_out, f)\n",
    "        \n",
    "with open(data_path + 'processed/test.pcl', 'wb') as f:\n",
    "    pickle.dump(test, f)"
   ]
  },
  {
   "cell_type": "code",
   "execution_count": null,
   "id": "d1f39194",
   "metadata": {},
   "outputs": [],
   "source": []
  }
 ],
 "metadata": {
  "kernelspec": {
   "display_name": "Shifts",
   "language": "python",
   "name": "shifts"
  },
  "language_info": {
   "codemirror_mode": {
    "name": "ipython",
    "version": 3
   },
   "file_extension": ".py",
   "mimetype": "text/x-python",
   "name": "python",
   "nbconvert_exporter": "python",
   "pygments_lexer": "ipython3",
   "version": "3.9.5"
  },
  "toc": {
   "base_numbering": 1,
   "nav_menu": {},
   "number_sections": false,
   "sideBar": true,
   "skip_h1_title": false,
   "title_cell": "Table of Contents",
   "title_sidebar": "Contents",
   "toc_cell": false,
   "toc_position": {
    "height": "calc(100% - 180px)",
    "left": "10px",
    "top": "150px",
    "width": "409.594px"
   },
   "toc_section_display": true,
   "toc_window_display": false
  }
 },
 "nbformat": 4,
 "nbformat_minor": 5
}
