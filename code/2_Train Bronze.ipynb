{
 "cells": [
  {
   "cell_type": "markdown",
   "id": "071bcb54",
   "metadata": {},
   "source": [
    "# Bronze Box\n",
    "* Objective: 'RMSEWithUncertainty'\n",
    "* Number of models: 29\n",
    "* Features: 60"
   ]
  },
  {
   "cell_type": "code",
   "execution_count": 1,
   "id": "e964ca8d",
   "metadata": {},
   "outputs": [],
   "source": [
    "import pickle\n",
    "import numpy as np\n",
    "import pandas as pd\n",
    "import datetime\n",
    "from catboost import CatBoostRegressor, Pool, CatBoostClassifier"
   ]
  },
  {
   "cell_type": "markdown",
   "id": "b487862c",
   "metadata": {},
   "source": [
    "# Load data"
   ]
  },
  {
   "cell_type": "code",
   "execution_count": 2,
   "id": "f6b0ef3c",
   "metadata": {},
   "outputs": [
    {
     "name": "stdout",
     "output_type": "stream",
     "text": [
      "Train: (3129592, 131)\n",
      "Test: (1137731, 125) \n",
      "\n",
      "Wall time: 6.33 s\n"
     ]
    }
   ],
   "source": [
    "%%time\n",
    "\n",
    "with open('../data/processed/train.pcl', 'rb') as f:\n",
    "    train = pickle.load(f)\n",
    "    \n",
    "with open('../data/processed/test.pcl', 'rb') as f:\n",
    "    test = pickle.load(f)\n",
    "    \n",
    "train = train.sort_values(['fact_temperature', 'climate', 'fact_cwsm_class', \n",
    "                           'fact_latitude', 'fact_longitude', 'fact_time'])\n",
    "\n",
    "train.index = [x for x in range(train.shape[0])]\n",
    "test.index = [x for x in range(test.shape[0])]\n",
    "\n",
    "print('Train:', train.shape)\n",
    "print('Test:', test.shape, '\\n')"
   ]
  },
  {
   "cell_type": "markdown",
   "id": "a8b1ef69",
   "metadata": {},
   "source": [
    "# Model params"
   ]
  },
  {
   "cell_type": "code",
   "execution_count": 3,
   "id": "2399880c",
   "metadata": {},
   "outputs": [
    {
     "name": "stdout",
     "output_type": "stream",
     "text": [
      "Features: 60\n"
     ]
    }
   ],
   "source": [
    "target = 'fact_temperature'\n",
    "\n",
    "features = ['x1', 'wrf_t2', 'x2', 'gfs_temperature_sea', 'cmc_0_0_0_2_interpolated',\n",
    "            'gfs_temperature_sea_interpolated', 'wrf_t2_interpolated',\n",
    "            'cmc_0_0_0_1000', 'topography_bathymetry', 'cmc_0_0_0_2',\n",
    "            'sun_elevation', 'wrf_t2_next', 'gfs_pressure', 'gfs_soil_temperature',\n",
    "            'climate_pressure', 'cmc_0_3_0_0_next', 'wrf_rh2', 'cmc_0_3_0_0',\n",
    "            'climate_temperature', 'cmc_0_0_0_2_grad', 'gfs_temperature_10000',\n",
    "            'gfs_humidity', 'cmc_0_1_0_0', 'cmc_0_0_7_925', 'gfs_wind_speed',\n",
    "            'gfs_temperature_5000', 'gfs_a_vorticity', 'gfs_temperature_97500',\n",
    "            'gfs_temperature_7000', 'wrf_psfc', 'wrf_wind_u',\n",
    "            'gfs_total_clouds_cover_low_next', 'cmc_0_2_2_500', 'gfs_r_velocity',\n",
    "            'gfs_temperature_sea_grad', 'cmc_0_0_0_850', 'cmc_timedelta_s',\n",
    "            'wrf_wind_v', 'gfs_precipitable_water', 'cmc_0_3_5_850', 'cmc_0_2_3_10',\n",
    "            'cmc_0_0_7_2', 'cmc_0_0_0_925', 'cmc_0_0_7_850', 'cmc_0_3_5_925',\n",
    "            'gfs_temperature_25000', 'cmc_0_3_1_0', 'gfs_temperature_95000',\n",
    "            'wrf_t2_grad', 'gfs_2m_dewpoint_next', 'cmc_0_2_2_700', 'cmc_0_2_3_925',\n",
    "            'gfs_cloudness', 'gfs_temperature_20000', 'cmc_0_2_3_500',\n",
    "            'gfs_temperature_80000', 'gfs_temperature_15000', 'cmc_0_0_6_2',\n",
    "            'gfs_total_clouds_cover_low', 'cmc_0_2_2_1000']\n",
    "\n",
    "print('Features:', len(features))"
   ]
  },
  {
   "cell_type": "code",
   "execution_count": 4,
   "id": "4bdeece5",
   "metadata": {},
   "outputs": [],
   "source": [
    "# Catboost params\n",
    "\n",
    "model_params = {'eval_metric': 'RMSEWithUncertainty',    \n",
    "                'objective': 'RMSEWithUncertainty',\n",
    "                'iterations':5000,\n",
    "                'learning_rate':0.3,               \n",
    "                'depth': 9, \n",
    "                'l2_leaf_reg': 20,\n",
    "                'one_hot_max_size': 120,\n",
    "                'task_type': 'CPU',\n",
    "                'thread_count': 22\n",
    "               }\n",
    "\n",
    "train_params = {'early_stopping_rounds': 150, \n",
    "                'silent': True,\n",
    "                'plot': True               \n",
    "               }\n",
    "\n",
    "features_params = {}"
   ]
  },
  {
   "cell_type": "markdown",
   "id": "11f58a7a",
   "metadata": {},
   "source": [
    "# Train models"
   ]
  },
  {
   "cell_type": "code",
   "execution_count": null,
   "id": "53f797a2",
   "metadata": {},
   "outputs": [],
   "source": [
    "%%time\n",
    "\n",
    "n_models = 200\n",
    "folds = 25\n",
    "seed_shift = 0\n",
    "total_models = 29\n",
    "\n",
    "for model_number in range(total_models):\n",
    "    # Fix seed\n",
    "    seed = model_number + seed_shift\n",
    "    model_params['random_state'] = seed\n",
    "    np.random.seed(seed)\n",
    "    print(f'\\nModel: {model_number}, seed: {seed}')\n",
    "    print(str(datetime.datetime.now())[:19]) \n",
    "    \n",
    "    # Split train val\n",
    "    train_idx = [x for x in range(train.shape[0]) if x%folds != model_number%folds] \n",
    "    val_idx = [x for x in range(train.shape[0]) if x%folds == model_number%folds] \n",
    "    print('Train indexes:', train_idx[:folds])\n",
    "    print('Test indexes:', val_idx[:folds][:5])\n",
    "    train_subset = train.iloc[train_idx]\n",
    "    val_subset = train.iloc[val_idx]\n",
    "   \n",
    "    train_dataset = Pool(data=train_subset[features], label=train_subset[target], **features_params) \n",
    "    eval_dataset = Pool(data=val_subset[features], label=val_subset[target], **features_params)\n",
    "    \n",
    "    # Train model\n",
    "    model = CatBoostRegressor(**model_params) \n",
    "    model.fit(train_dataset, eval_set=eval_dataset, **train_params)\n",
    "    model.save_model(f'models/bronze_box_{model_number}_{folds}_{n_models}.cbm')"
   ]
  },
  {
   "cell_type": "code",
   "execution_count": null,
   "id": "3b599a3a",
   "metadata": {},
   "outputs": [],
   "source": []
  },
  {
   "cell_type": "code",
   "execution_count": null,
   "id": "6d89ae47",
   "metadata": {},
   "outputs": [],
   "source": []
  }
 ],
 "metadata": {
  "kernelspec": {
   "display_name": "Shifts",
   "language": "python",
   "name": "shifts"
  },
  "language_info": {
   "codemirror_mode": {
    "name": "ipython",
    "version": 3
   },
   "file_extension": ".py",
   "mimetype": "text/x-python",
   "name": "python",
   "nbconvert_exporter": "python",
   "pygments_lexer": "ipython3",
   "version": "3.9.5"
  },
  "toc": {
   "base_numbering": 1,
   "nav_menu": {},
   "number_sections": false,
   "sideBar": true,
   "skip_h1_title": false,
   "title_cell": "Содержание",
   "title_sidebar": "Contents",
   "toc_cell": false,
   "toc_position": {
    "height": "calc(100% - 180px)",
    "left": "10px",
    "top": "150px",
    "width": "355.5px"
   },
   "toc_section_display": true,
   "toc_window_display": true
  }
 },
 "nbformat": 4,
 "nbformat_minor": 5
}
