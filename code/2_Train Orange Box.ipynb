{
 "cells": [
  {
   "cell_type": "markdown",
   "id": "071bcb54",
   "metadata": {},
   "source": [
    "# Orange Box\n",
    "* Objective: 'RMSEWithUncertainty'\n",
    "* Number of models: 51\n",
    "* Features: 125\n",
    "* Add noise to train targets"
   ]
  },
  {
   "cell_type": "code",
   "execution_count": 1,
   "id": "e12c7490",
   "metadata": {},
   "outputs": [],
   "source": [
    "import pickle\n",
    "import numpy as np\n",
    "import pandas as pd\n",
    "import datetime\n",
    "import matplotlib.pyplot as plt\n",
    "from catboost import CatBoostRegressor, Pool, CatBoostClassifier\n",
    "\n",
    "from plot_utils import fast_hist"
   ]
  },
  {
   "cell_type": "markdown",
   "id": "b487862c",
   "metadata": {},
   "source": [
    "# Load data"
   ]
  },
  {
   "cell_type": "code",
   "execution_count": 2,
   "id": "74c76f44",
   "metadata": {},
   "outputs": [
    {
     "name": "stdout",
     "output_type": "stream",
     "text": [
      "Train: (3129592, 131)\n",
      "Test: (1137731, 125) \n",
      "\n",
      "Wall time: 4.96 s\n"
     ]
    }
   ],
   "source": [
    "%%time\n",
    "\n",
    "with open('../data/processed/train.pcl', 'rb') as f:\n",
    "    train = pickle.load(f)\n",
    "    \n",
    "with open('../data/processed/test.pcl', 'rb') as f:\n",
    "    test = pickle.load(f)\n",
    "    \n",
    "train = train.sort_values(['fact_temperature', 'climate', 'fact_cwsm_class', \n",
    "                           'fact_latitude', 'fact_longitude', 'fact_time'])\n",
    "\n",
    "train.index = [x for x in range(train.shape[0])]\n",
    "test.index = [x for x in range(test.shape[0])]\n",
    "\n",
    "print('Train:', train.shape)\n",
    "print('Test:', test.shape, '\\n')"
   ]
  },
  {
   "cell_type": "markdown",
   "id": "a8b1ef69",
   "metadata": {},
   "source": [
    "# Model params"
   ]
  },
  {
   "cell_type": "code",
   "execution_count": 3,
   "id": "e66262b4",
   "metadata": {},
   "outputs": [
    {
     "name": "stdout",
     "output_type": "stream",
     "text": [
      "Features: 125\n"
     ]
    },
    {
     "data": {
      "text/plain": [
       "['topography_bathymetry',\n",
       " 'sun_elevation',\n",
       " 'climate_temperature',\n",
       " 'climate_pressure',\n",
       " 'cmc_0_0_0_1000',\n",
       " 'cmc_0_0_0_2_grad',\n",
       " 'cmc_0_0_0_2_interpolated',\n",
       " 'cmc_0_0_0_2_next',\n",
       " 'cmc_0_0_0_2',\n",
       " 'cmc_0_0_0_500',\n",
       " 'cmc_0_0_0_700',\n",
       " 'cmc_0_0_0_850',\n",
       " 'cmc_0_0_0_925',\n",
       " 'cmc_0_0_6_2',\n",
       " 'cmc_0_0_7_1000',\n",
       " 'cmc_0_0_7_2',\n",
       " 'cmc_0_0_7_500',\n",
       " 'cmc_0_0_7_700',\n",
       " 'cmc_0_0_7_850',\n",
       " 'cmc_0_0_7_925',\n",
       " 'cmc_0_1_0_0',\n",
       " 'cmc_0_1_11_0',\n",
       " 'cmc_0_1_65_0',\n",
       " 'cmc_0_1_66_0',\n",
       " 'cmc_0_1_67_0',\n",
       " 'cmc_0_1_68_0',\n",
       " 'cmc_0_1_7_0',\n",
       " 'cmc_0_2_2_10',\n",
       " 'cmc_0_2_2_1000',\n",
       " 'cmc_0_2_2_500',\n",
       " 'cmc_0_2_2_700',\n",
       " 'cmc_0_2_2_850',\n",
       " 'cmc_0_2_2_925',\n",
       " 'cmc_0_2_3_10',\n",
       " 'cmc_0_2_3_1000',\n",
       " 'cmc_0_2_3_500',\n",
       " 'cmc_0_2_3_700',\n",
       " 'cmc_0_2_3_850',\n",
       " 'cmc_0_2_3_925',\n",
       " 'cmc_0_3_0_0',\n",
       " 'cmc_0_3_0_0_next',\n",
       " 'cmc_0_3_1_0',\n",
       " 'cmc_0_3_5_1000',\n",
       " 'cmc_0_3_5_500',\n",
       " 'cmc_0_3_5_700',\n",
       " 'cmc_0_3_5_850',\n",
       " 'cmc_0_3_5_925',\n",
       " 'cmc_0_6_1_0',\n",
       " 'cmc_available',\n",
       " 'cmc_horizon_h',\n",
       " 'cmc_precipitations',\n",
       " 'cmc_timedelta_s',\n",
       " 'gfs_2m_dewpoint',\n",
       " 'gfs_a_vorticity',\n",
       " 'gfs_available',\n",
       " 'gfs_cloudness',\n",
       " 'gfs_clouds_sea',\n",
       " 'gfs_horizon_h',\n",
       " 'gfs_humidity',\n",
       " 'gfs_precipitable_water',\n",
       " 'gfs_precipitations',\n",
       " 'gfs_pressure',\n",
       " 'gfs_r_velocity',\n",
       " 'gfs_soil_temperature',\n",
       " 'gfs_soil_temperature_available',\n",
       " 'gfs_temperature_10000',\n",
       " 'gfs_temperature_15000',\n",
       " 'gfs_temperature_20000',\n",
       " 'gfs_temperature_25000',\n",
       " 'gfs_temperature_30000',\n",
       " 'gfs_temperature_35000',\n",
       " 'gfs_temperature_40000',\n",
       " 'gfs_temperature_45000',\n",
       " 'gfs_temperature_5000',\n",
       " 'gfs_temperature_50000',\n",
       " 'gfs_temperature_55000',\n",
       " 'gfs_temperature_60000',\n",
       " 'gfs_temperature_65000',\n",
       " 'gfs_temperature_7000',\n",
       " 'gfs_temperature_70000',\n",
       " 'gfs_temperature_75000',\n",
       " 'gfs_temperature_80000',\n",
       " 'gfs_temperature_85000',\n",
       " 'gfs_temperature_90000',\n",
       " 'gfs_temperature_92500',\n",
       " 'gfs_temperature_95000',\n",
       " 'gfs_temperature_97500',\n",
       " 'gfs_temperature_sea',\n",
       " 'gfs_temperature_sea_grad',\n",
       " 'gfs_temperature_sea_interpolated',\n",
       " 'gfs_temperature_sea_next',\n",
       " 'gfs_timedelta_s',\n",
       " 'gfs_total_clouds_cover_high',\n",
       " 'gfs_total_clouds_cover_low',\n",
       " 'gfs_total_clouds_cover_middle',\n",
       " 'gfs_u_wind',\n",
       " 'gfs_v_wind',\n",
       " 'gfs_wind_speed',\n",
       " 'wrf_available',\n",
       " 'wrf_t2',\n",
       " 'wrf_t2_next',\n",
       " 'wrf_psfc',\n",
       " 'wrf_rh2',\n",
       " 'wrf_wind_u',\n",
       " 'wrf_wind_v',\n",
       " 'wrf_rain',\n",
       " 'wrf_snow',\n",
       " 'wrf_graupel',\n",
       " 'wrf_hail',\n",
       " 'wrf_t2_interpolated',\n",
       " 'wrf_t2_grad',\n",
       " 'cmc_0_1_65_0_grad',\n",
       " 'cmc_0_1_65_0_next',\n",
       " 'cmc_0_1_66_0_grad',\n",
       " 'cmc_0_1_66_0_next',\n",
       " 'cmc_0_1_67_0_grad',\n",
       " 'cmc_0_1_67_0_next',\n",
       " 'cmc_0_1_68_0_grad',\n",
       " 'cmc_0_1_68_0_next',\n",
       " 'gfs_2m_dewpoint_grad',\n",
       " 'gfs_2m_dewpoint_next',\n",
       " 'gfs_total_clouds_cover_low_grad',\n",
       " 'gfs_total_clouds_cover_low_next',\n",
       " 'x1',\n",
       " 'x2']"
      ]
     },
     "execution_count": 3,
     "metadata": {},
     "output_type": "execute_result"
    }
   ],
   "source": [
    "target = 'fact_temperature'\n",
    "features = list(test.columns)\n",
    "print('Features:', len(features))\n",
    "features"
   ]
  },
  {
   "cell_type": "code",
   "execution_count": 4,
   "id": "2402e101",
   "metadata": {},
   "outputs": [],
   "source": [
    "# Catboost params\n",
    "\n",
    "model_params = {'eval_metric': 'RMSEWithUncertainty',    \n",
    "                'objective': 'RMSEWithUncertainty',\n",
    "                'iterations':12000,\n",
    "                'learning_rate':0.6,               \n",
    "                'depth': 8, \n",
    "                'l2_leaf_reg': 20,\n",
    "                'one_hot_max_size': 120,\n",
    "                'task_type': 'CPU',\n",
    "                'thread_count': 22\n",
    "               }\n",
    "\n",
    "train_params = {'early_stopping_rounds': 150, \n",
    "                'silent': True,\n",
    "                'plot': True               \n",
    "               }\n",
    "\n",
    "features_params = {}"
   ]
  },
  {
   "cell_type": "markdown",
   "id": "25d04b70",
   "metadata": {},
   "source": [
    "# Adding noise to target variables"
   ]
  },
  {
   "cell_type": "code",
   "execution_count": 5,
   "id": "0e9f93e6",
   "metadata": {},
   "outputs": [
    {
     "data": {
      "image/png": "[encoded data removed]",
      "text/plain": [
       "<Figure size 864x288 with 1 Axes>"
      ]
     },
     "metadata": {},
     "output_type": "display_data"
    }
   ],
   "source": [
    "# Since the fact_temperature values have been rounded off, the actual temperature values are shifted within + -0.5 degrees.\n",
    "# During training, noise in the range from -0.49 to 0.49 degrees will be added to the target variables in train_dataset\n",
    "# The noise has a normal distribution and is generated by the following code\n",
    "\n",
    "noise = np.random.randn(train.shape[0])  \n",
    "noise = noise / np.abs(noise).max() * 0.49\n",
    "\n",
    "fast_hist(pd.Series(noise), bins=100, title=\"Histogram of the noise to be added to the target variable\", plot_legend=False)\n",
    "plt.xlabel('Noise value');"
   ]
  },
  {
   "cell_type": "markdown",
   "id": "dc8dd025",
   "metadata": {},
   "source": [
    "# Train models"
   ]
  },
  {
   "cell_type": "code",
   "execution_count": null,
   "id": "98ea3eed",
   "metadata": {},
   "outputs": [],
   "source": [
    "%%time\n",
    "# Train 51 model\n",
    "\n",
    "n_models = 200\n",
    "folds = 25\n",
    "seed_shift = 0\n",
    "total_models = 51\n",
    "\n",
    "for model_number in range(total_models):\n",
    "    # Fix seed\n",
    "    seed = model_number + seed_shift\n",
    "    model_params['random_state'] = seed\n",
    "    np.random.seed(seed)\n",
    "    print(f'\\nModel: {model_number}, seed: {seed}')\n",
    "    print(str(datetime.datetime.now())[:19]) \n",
    "    \n",
    "    # Split train val\n",
    "    train_idx = [x for x in range(train.shape[0]) if x%folds != model_number%folds] \n",
    "    val_idx = [x for x in range(train.shape[0]) if x%folds == model_number%folds] \n",
    "    print('Train indexes:', train_idx[:folds])\n",
    "    print('Test indexes:', val_idx[:folds][:5])\n",
    "    train_subset = train.iloc[train_idx]\n",
    "    val_subset = train.iloc[val_idx]\n",
    "    \n",
    "    # Add noise to train target   \n",
    "    noise = np.random.randn(train_subset.shape[0])  \n",
    "    noise = noise / np.abs(noise).max() * 0.49\n",
    "    \n",
    "    train_dataset = Pool(data=train_subset[features], label=train_subset[target] + noise, **features_params) \n",
    "    eval_dataset = Pool(data=val_subset[features], label=val_subset[target], **features_params)\n",
    "    \n",
    "    # Train model\n",
    "    model = CatBoostRegressor(**model_params) \n",
    "    model.fit(train_dataset, eval_set=eval_dataset, **train_params)\n",
    "    model.save_model(f'models/orange_box_{model_number}_{folds}_{n_models}.cbm')"
   ]
  },
  {
   "cell_type": "code",
   "execution_count": null,
   "id": "3b599a3a",
   "metadata": {},
   "outputs": [],
   "source": []
  }
 ],
 "metadata": {
  "kernelspec": {
   "display_name": "Shifts",
   "language": "python",
   "name": "shifts"
  },
  "language_info": {
   "codemirror_mode": {
    "name": "ipython",
    "version": 3
   },
   "file_extension": ".py",
   "mimetype": "text/x-python",
   "name": "python",
   "nbconvert_exporter": "python",
   "pygments_lexer": "ipython3",
   "version": "3.9.5"
  },
  "toc": {
   "base_numbering": 1,
   "nav_menu": {},
   "number_sections": false,
   "sideBar": true,
   "skip_h1_title": false,
   "title_cell": "Содержание",
   "title_sidebar": "Contents",
   "toc_cell": false,
   "toc_position": {
    "height": "calc(100% - 180px)",
    "left": "10px",
    "top": "150px",
    "width": "355.5px"
   },
   "toc_section_display": true,
   "toc_window_display": true
  }
 },
 "nbformat": 4,
 "nbformat_minor": 5
}
